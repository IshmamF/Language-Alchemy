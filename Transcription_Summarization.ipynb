{
  "nbformat": 4,
  "nbformat_minor": 0,
  "metadata": {
    "colab": {
      "provenance": []
    },
    "kernelspec": {
      "name": "python3",
      "display_name": "Python 3"
    },
    "language_info": {
      "name": "python"
    }
  },
  "cells": [
    {
      "cell_type": "code",
      "source": [
        "!pip install transformers\n",
        "from transformers import pipeline"
      ],
      "metadata": {
        "colab": {
          "base_uri": "https://localhost:8080/"
        },
        "id": "JnOz-ct4Q3Gp",
        "outputId": "acb3bd50-2ee1-438b-84a2-3395f48f758a"
      },
      "execution_count": 5,
      "outputs": [
        {
          "output_type": "stream",
          "name": "stdout",
          "text": [
            "Requirement already satisfied: transformers in /usr/local/lib/python3.10/dist-packages (4.35.2)\n",
            "Requirement already satisfied: filelock in /usr/local/lib/python3.10/dist-packages (from transformers) (3.13.1)\n",
            "Requirement already satisfied: huggingface-hub<1.0,>=0.16.4 in /usr/local/lib/python3.10/dist-packages (from transformers) (0.19.3)\n",
            "Requirement already satisfied: numpy>=1.17 in /usr/local/lib/python3.10/dist-packages (from transformers) (1.23.5)\n",
            "Requirement already satisfied: packaging>=20.0 in /usr/local/lib/python3.10/dist-packages (from transformers) (23.2)\n",
            "Requirement already satisfied: pyyaml>=5.1 in /usr/local/lib/python3.10/dist-packages (from transformers) (6.0.1)\n",
            "Requirement already satisfied: regex!=2019.12.17 in /usr/local/lib/python3.10/dist-packages (from transformers) (2023.6.3)\n",
            "Requirement already satisfied: requests in /usr/local/lib/python3.10/dist-packages (from transformers) (2.31.0)\n",
            "Requirement already satisfied: tokenizers<0.19,>=0.14 in /usr/local/lib/python3.10/dist-packages (from transformers) (0.15.0)\n",
            "Requirement already satisfied: safetensors>=0.3.1 in /usr/local/lib/python3.10/dist-packages (from transformers) (0.4.0)\n",
            "Requirement already satisfied: tqdm>=4.27 in /usr/local/lib/python3.10/dist-packages (from transformers) (4.66.1)\n",
            "Requirement already satisfied: fsspec>=2023.5.0 in /usr/local/lib/python3.10/dist-packages (from huggingface-hub<1.0,>=0.16.4->transformers) (2023.6.0)\n",
            "Requirement already satisfied: typing-extensions>=3.7.4.3 in /usr/local/lib/python3.10/dist-packages (from huggingface-hub<1.0,>=0.16.4->transformers) (4.5.0)\n",
            "Requirement already satisfied: charset-normalizer<4,>=2 in /usr/local/lib/python3.10/dist-packages (from requests->transformers) (3.3.2)\n",
            "Requirement already satisfied: idna<4,>=2.5 in /usr/local/lib/python3.10/dist-packages (from requests->transformers) (3.4)\n",
            "Requirement already satisfied: urllib3<3,>=1.21.1 in /usr/local/lib/python3.10/dist-packages (from requests->transformers) (2.0.7)\n",
            "Requirement already satisfied: certifi>=2017.4.17 in /usr/local/lib/python3.10/dist-packages (from requests->transformers) (2023.7.22)\n"
          ]
        }
      ]
    },
    {
      "cell_type": "code",
      "execution_count": 6,
      "metadata": {
        "colab": {
          "base_uri": "https://localhost:8080/"
        },
        "id": "ru3RykIbP87K",
        "outputId": "1fc17b72-45de-4441-aadc-341310581395"
      },
      "outputs": [
        {
          "output_type": "stream",
          "name": "stderr",
          "text": [
            "No model was supplied, defaulted to sshleifer/distilbart-cnn-12-6 and revision a4f8f3e (https://huggingface.co/sshleifer/distilbart-cnn-12-6).\n",
            "Using a pipeline without specifying a model name and revision in production is not recommended.\n"
          ]
        }
      ],
      "source": [
        "summarizer = pipeline(\"summarization\")"
      ]
    },
    {
      "cell_type": "code",
      "source": [
        "def word_length(paragraph):\n",
        "    words = paragraph.split()\n",
        "    return len(words)"
      ],
      "metadata": {
        "id": "ByMxumoFo-bt"
      },
      "execution_count": 7,
      "outputs": []
    },
    {
      "cell_type": "code",
      "source": [
        "# This is just some dummy text, if we had more time we would have integrated this into our web application.\n",
        "\n",
        "\n",
        "transcription = \"\"\"\n",
        "At a very broad level, Data Analytics involves making decisions or coming to conclusions based on data that has been systemically organized. A more formal definition would include stages of the Data Analytics process, which include Planning, Collecting, Cleansing, Organizing, and Interpreting/Communicating. A deeper dive into the process will reveal how each state is integral to Data Analytics that produces value.\n",
        "\n",
        "The Planning Phase is where the Data Analytics project details would be articulated. This includes any specific questions that need to be answered and methodologies that will be used. This phase is essential as it maps the details of the subsequent steps. For example, during the Planning phase, analysts will decide what data sources to use for the project. Not only will data sources be determined, but time periods of analysis as well. In other words, from what time period will data be pulled for use in the analysis? Most importantly, careful planning will ensure that the Data Analytics project is providing value that justifies the costs involved.\n",
        "\n",
        "The Collecting Phase involves the gathering of the data that will be used in the analysis. This may include data stored internally within an organization, obtained through primary survey research, or gathered from external sources. The data may be quantitative or qualitative. Quantitative data is expressed in numbers as measures or counts, while qualitative data expresses traits or characteristics. The difference between the two is quantitative data defines, while qualitative data describes (BusinessDictionary.com).\n",
        "\n",
        "In the Cleansing Phase, the collected data is checked for quality and usefulness. This phase is important as it has implications on the analysis of the data and ultimately the decisions and conclusions made from it.  Data cleansing checks for relevance, corruption, duplication and correct formatting. When possible, data should be corrected or fixed. However, if this is not possible then it should be excluded from the analysis to avoid compromising the validity of the data analysis. After completing the data cleansing, it is important to run reports to confirm the necessary changes were successfully executed and the data is not presenting contradictory information.\n",
        "\n",
        "The preceding phases are vital and allow the Organizing Phase to run more smoothly. This phase is where the core of Data Analytics takes place. The cleansed data is organized and manipulated to find answers to the questions articulated in the Planning Phase. There are several types of Data Analytics tools that can be used to manipulate the data. Tools can be as simple as spreadsheet software such as Microsoft Excel or more advanced statistical software packages including SPSS or SAS. R, a programming language and software environment, has become a popular option for data analysts.\n",
        "\n",
        "The final phase is the Interpreting/Communicating Phase. The first step in this phase is to develop a “story” using the answers found in the Organizing Phase. The “story should aid in the development of actionable steps. Decisions and conclusions made in this phase should be supported by the learnings discovered in the prior phase.\n",
        "An important part of this final phase is communicating these discoveries, and ultimately the conclusions and recommendations, to the stakeholders involved. In most situations, final decisions are not made by one person, but a group. Often, at least some members in the group will have a limited understanding of Data Analytics and the methodologies involved. Therefore, it will be important to communicate the learnings and recommendations clearly and in an uncomplicated manner.\n",
        "\n",
        "\n",
        "\n",
        "\n",
        "\n",
        "\"\"\"\n"
      ],
      "metadata": {
        "id": "_w__vQQFYRta"
      },
      "execution_count": 3,
      "outputs": []
    },
    {
      "cell_type": "code",
      "source": [
        "min_length = word_length(transcription)\n",
        "\n",
        "if min_length > 2500:\n",
        "    # Assuming 'summarizer' is a function you have defined elsewhere\n",
        "    summary = summarizer(transcription, min_length=200, do_sample=False)\n",
        "\n",
        "elif min_length > 1800:\n",
        "    # Assuming 'summarizer' is a function you have defined elsewhere\n",
        "    summary = summarizer(transcription, min_length=500, do_sample=False)\n",
        "\n",
        "elif min_length > 1000:\n",
        "    # Assuming 'summarizer' is a function you have defined elsewhere\n",
        "    summary = summarizer(transcription, min_length=250, do_sample=False)\n",
        "\n",
        "elif min_length > 800:\n",
        "    # Assuming 'summarizer' is a function you have defined elsewhere\n",
        "    summary = summarizer(transcription, min_length=150, do_sample=False)\n",
        "elif min_length > 400:\n",
        "    # Assuming 'summarizer' is a function you have defined elsewhere\n",
        "    summary = summarizer(transcription, min_length=100, do_sample=False)\n",
        "\n",
        "elif min_length > 200:\n",
        "    # Assuming 'summarizer' is a function you have defined elsewhere\n",
        "    summary = summarizer(transcription, min_length=50, do_sample=False)\n",
        "\n"
      ],
      "metadata": {
        "id": "zlQEP4lRmyK8"
      },
      "execution_count": 8,
      "outputs": []
    },
    {
      "cell_type": "code",
      "source": [
        "print(summary)"
      ],
      "metadata": {
        "id": "pZVfTy0Ln0Lb",
        "outputId": "4d8413fc-7612-48b1-b207-f841e5d07988",
        "colab": {
          "base_uri": "https://localhost:8080/"
        }
      },
      "execution_count": 9,
      "outputs": [
        {
          "output_type": "stream",
          "name": "stdout",
          "text": [
            "[{'summary_text': ' At a very broad level, Data Analytics involves making decisions or coming to conclusions based on data that has been systemically organized . A deeper dive into the process will reveal how each state is integral to Data Analytics that produces value . The Planning Phase is where the Data Analytics project details would be articulated . The Collecting Phase involves the gathering of the data that will be used in the analysis . Cleansing, Organizing, and Interpreting/Communicating are the final stages of Data Analytics .'}]\n"
          ]
        }
      ]
    },
    {
      "cell_type": "code",
      "source": [],
      "metadata": {
        "id": "b9LZxp3_omG_"
      },
      "execution_count": null,
      "outputs": []
    }
  ]
}